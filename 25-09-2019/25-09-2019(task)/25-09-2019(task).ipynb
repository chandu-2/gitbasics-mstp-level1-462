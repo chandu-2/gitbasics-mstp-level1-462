{
 "cells": [
  {
   "cell_type": "markdown",
   "metadata": {},
   "source": [
    "##2.program to print the all the even no in range inclusive"
   ]
  },
  {
   "cell_type": "code",
   "execution_count": 18,
   "metadata": {},
   "outputs": [
    {
     "name": "stdout",
     "output_type": "stream",
     "text": [
      "6\n",
      "2\n",
      "4\n",
      "6\n"
     ]
    }
   ],
   "source": [
    "def evenno(a):\n",
    "    for i in range(1,a+1):\n",
    "        if(i%2==0):\n",
    "            print(i)\n",
    "a=int(input())\n",
    "evenno(a)"
   ]
  },
  {
   "cell_type": "markdown",
   "metadata": {},
   "source": [
    "##3.Function to find the average of cubes of all even numbers in a \n",
    "given range(lb, ub) inclusive"
   ]
  },
  {
   "cell_type": "code",
   "execution_count": 20,
   "metadata": {},
   "outputs": [
    {
     "name": "stdout",
     "output_type": "stream",
     "text": [
      "6\n",
      "8.0\n",
      "32.0\n",
      "72.0\n"
     ]
    }
   ],
   "source": [
    "def cubes(a):\n",
    "    count=0\n",
    "    for i in range(1,a+1):\n",
    "        if(i%2==0):\n",
    "            cube=i**3\n",
    "            count=count+1\n",
    "            avg=cube/count\n",
    "            print(avg)\n",
    "a=int(input())\n",
    "cubes(a)"
   ]
  },
  {
   "cell_type": "markdown",
   "metadata": {},
   "source": [
    "##4.program to print all the sum of perfect numbers in a given range"
   ]
  },
  {
   "cell_type": "code",
   "execution_count": null,
   "metadata": {},
   "outputs": [],
   "source": [
    "def perfectno(n):\n",
    "    s=0\n",
    "    for i in range(1,n):\n",
    "        if n%i==0:\n",
    "            s=s+i\n",
    "    if(s==n):\n",
    "        return 1\n",
    "    else:\n",
    "        return 0\n",
    "lb=int(input())\n",
    "ub=int(input())\n",
    "s1=0\n",
    "for j in range(lb,ub+1):\n",
    "    if perfectno(j)==1:\n",
    "        s1=s+i\n",
    "print(s1)        \n",
    "            \n",
    "            "
   ]
  },
  {
   "cell_type": "markdown",
   "metadata": {},
   "source": [
    "##5.Function to generate N odd armstrong number"
   ]
  },
  {
   "cell_type": "code",
   "execution_count": 8,
   "metadata": {},
   "outputs": [
    {
     "name": "stdout",
     "output_type": "stream",
     "text": [
      "153\n",
      "153\n",
      "armstrong 153\n",
      "odd\n"
     ]
    }
   ],
   "source": [
    "def armstrong(n):\n",
    "    s=0\n",
    "    m=n\n",
    "    for i in range(1,n+1):\n",
    "        r=n%10\n",
    "        s=s+r**3\n",
    "        n=n//10\n",
    "    print(s)\n",
    "    if(s==m):\n",
    "        print(\"armstrong\",s)\n",
    "    if(s%2!=0):\n",
    "        print(\"odd\")\n",
    "n=int(input())\n",
    "armstrong(n)"
   ]
  },
  {
   "cell_type": "code",
   "execution_count": null,
   "metadata": {},
   "outputs": [],
   "source": []
  }
 ],
 "metadata": {
  "kernelspec": {
   "display_name": "Python 3",
   "language": "python",
   "name": "python3"
  },
  "language_info": {
   "codemirror_mode": {
    "name": "ipython",
    "version": 3
   },
   "file_extension": ".py",
   "mimetype": "text/x-python",
   "name": "python",
   "nbconvert_exporter": "python",
   "pygments_lexer": "ipython3",
   "version": "3.7.3"
  }
 },
 "nbformat": 4,
 "nbformat_minor": 2
}
