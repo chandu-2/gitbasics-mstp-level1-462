{
 "cells": [
  {
   "cell_type": "code",
   "execution_count": 2,
   "metadata": {},
   "outputs": [
    {
     "name": "stdout",
     "output_type": "stream",
     "text": [
      "26.0\n",
      "50\n"
     ]
    }
   ],
   "source": [
    "filepath=\"studentmarks.txt\"\n",
    "def percentage(filepath):\n",
    "    p_c=0\n",
    "    c=0\n",
    "    with open (filepath,\"r\") as f:\n",
    "        f1=f.read()\n",
    "        l=f1.split()                    \n",
    "        for i in l:\n",
    "            c=c+1\n",
    "            if int(i)>=75:\n",
    "                p_c+=1\n",
    "        print((p_c/c)*100)\n",
    "        print(c)\n",
    "percentage(filepath)              "
   ]
  },
  {
   "cell_type": "code",
   "execution_count": 3,
   "metadata": {},
   "outputs": [
    {
     "name": "stdout",
     "output_type": "stream",
     "text": [
      "26.0\n"
     ]
    }
   ],
   "source": [
    "filepath=\"studentmarks.txt\"\n",
    "def percentage(filepath):\n",
    "    s_c=0\n",
    "    t_c=0\n",
    "    with open (filepath,\"r\") as f:\n",
    "        f1=f.read()\n",
    "        l=f1.split()                    \n",
    "        for i in l:\n",
    "            t_c+=1\n",
    "            if int(i)>=50 and int(i)<=75:\n",
    "                s_c+=1\n",
    "        b=(s_c/t_c)*100\n",
    "        print(b)\n",
    "percentage(filepath)              "
   ]
  },
  {
   "cell_type": "code",
   "execution_count": 4,
   "metadata": {},
   "outputs": [
    {
     "name": "stdout",
     "output_type": "stream",
     "text": [
      "14.000000000000002\n"
     ]
    }
   ],
   "source": [
    "filepath=\"studentmarks.txt\"\n",
    "def percentage(filepath):\n",
    "    th_c=0\n",
    "    t_c=0\n",
    "    with open (filepath,\"r\") as f:\n",
    "        f1=f.read()\n",
    "        l=f1.split()                    \n",
    "        for i in l:\n",
    "            t_c+=1\n",
    "            if int(i)>=35 and int(i)<=50:\n",
    "                th_c+=1\n",
    "        b=(th_c/t_c)*100\n",
    "        print(b)\n",
    "percentage(filepath)              "
   ]
  },
  {
   "cell_type": "code",
   "execution_count": null,
   "metadata": {},
   "outputs": [],
   "source": []
  }
 ],
 "metadata": {
  "kernelspec": {
   "display_name": "Python 3",
   "language": "python",
   "name": "python3"
  },
  "language_info": {
   "codemirror_mode": {
    "name": "ipython",
    "version": 3
   },
   "file_extension": ".py",
   "mimetype": "text/x-python",
   "name": "python",
   "nbconvert_exporter": "python",
   "pygments_lexer": "ipython3",
   "version": "3.7.3"
  }
 },
 "nbformat": 4,
 "nbformat_minor": 2
}
