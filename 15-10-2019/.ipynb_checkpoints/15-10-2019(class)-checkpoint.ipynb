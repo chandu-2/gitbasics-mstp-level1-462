{
 "cells": [
  {
   "cell_type": "code",
   "execution_count": 3,
   "metadata": {},
   "outputs": [],
   "source": [
    "filepath=\"content.txt\"\n",
    "def create(filepath):\n",
    "    with open(filepath,\"w\") as f:\n",
    "        f.write(\"when\\n hello\\n u\")\n",
    "create(filepath)        "
   ]
  },
  {
   "cell_type": "code",
   "execution_count": 5,
   "metadata": {},
   "outputs": [
    {
     "name": "stdout",
     "output_type": "stream",
     "text": [
      "when\n",
      " hello\n",
      " u\n"
     ]
    }
   ],
   "source": [
    "filepath=\"content.txt\"\n",
    "def readdata(filepath):\n",
    "    with open(filepath,\"r\") as f:\n",
    "        f1=f.read()\n",
    "        print(f1)\n",
    "readdata(filepath)        "
   ]
  },
  {
   "cell_type": "code",
   "execution_count": 10,
   "metadata": {},
   "outputs": [],
   "source": [
    "\n",
    "filepath=\"studentmarks.txt\"\n",
    "import random\n",
    "def marksmemo(filepath,n):\n",
    "    with open(filepath,\"w\") as f:\n",
    "        for i in range(n):\n",
    "            f.write(str(random.randint(1,100))+\"\\n\")\n",
    "marksmemo(filepath,50)        \n",
    "        \n"
   ]
  },
  {
   "cell_type": "code",
   "execution_count": 13,
   "metadata": {},
   "outputs": [
    {
     "name": "stdout",
     "output_type": "stream",
     "text": [
      "50\n",
      "2449\n"
     ]
    },
    {
     "data": {
      "text/plain": [
       "48"
      ]
     },
     "execution_count": 13,
     "metadata": {},
     "output_type": "execute_result"
    }
   ],
   "source": [
    "filepath=\"studentmarks.txt\"\n",
    "def classavg(filepath):\n",
    "    s=0\n",
    "    c=0\n",
    "    with open(filepath,\"r\") as f:\n",
    "        f1=f.read()\n",
    "        l=f1.split()\n",
    "        for i in l:\n",
    "            s=s+int(i)\n",
    "            c=c+1\n",
    "        avg=s//c\n",
    "        print(c)\n",
    "        print(s)\n",
    "    return avg\n",
    "classavg(filepath)"
   ]
  },
  {
   "cell_type": "code",
   "execution_count": 37,
   "metadata": {},
   "outputs": [
    {
     "name": "stdout",
     "output_type": "stream",
     "text": [
      "50\n",
      "64.0\n"
     ]
    }
   ],
   "source": [
    "filepath=\"studentmarks.txt\"\n",
    "def percentage(filepath):\n",
    "    p_c=0\n",
    "    c=0\n",
    "    with open (filepath,\"r\") as f:\n",
    "        f1=f.read()                      # class pass percentage\n",
    "        l=f1.split()\n",
    "        for i in l:\n",
    "            c=c+1\n",
    "            if int(i)>=35:\n",
    "                p_c+=1\n",
    "        print(c)        \n",
    "        print((p_c/c)*100)\n",
    "percentage(filepath)                \n",
    "            "
   ]
  },
  {
   "cell_type": "code",
   "execution_count": 51,
   "metadata": {},
   "outputs": [
    {
     "name": "stdout",
     "output_type": "stream",
     "text": [
      "36.0\n",
      "50\n"
     ]
    }
   ],
   "source": [
    "filepath=\"studentmarks.txt\"\n",
    "def percentage(filepath):\n",
    "    p_c=0\n",
    "    c=0\n",
    "    with open (filepath,\"r\") as f:\n",
    "        f1=f.read()\n",
    "        l=f1.split()                        # class failed percentage\n",
    "        for i in l:\n",
    "            c=c+1\n",
    "            if int(i)<=35:\n",
    "                p_c+=1\n",
    "        print((p_c/c)*100)\n",
    "        print(c)\n",
    "percentage(filepath)                \n",
    "            "
   ]
  },
  {
   "cell_type": "code",
   "execution_count": 49,
   "metadata": {},
   "outputs": [
    {
     "name": "stdout",
     "output_type": "stream",
     "text": [
      "92 96 92 94 95 99 "
     ]
    }
   ],
   "source": [
    "filepath=\"studentmarks.txt\"\n",
    "def highestmarks(filepath):\n",
    "    with open(filepath, \"r\") as f:\n",
    "        f1=f.read()\n",
    "        for i in f1.split():\n",
    "            if int(i)>=90:\n",
    "                print(i,end=\" \")\n",
    "highestmarks(filepath)                "
   ]
  },
  {
   "cell_type": "code",
   "execution_count": 50,
   "metadata": {},
   "outputs": [
    {
     "name": "stdout",
     "output_type": "stream",
     "text": [
      "6 12 13 9 11 1 8 13 9 3 4 1 "
     ]
    }
   ],
   "source": [
    "filepath=\"studentmarks.txt\"\n",
    "def lowestmarks(filepath):\n",
    "    with open(filepath, \"r\") as f:\n",
    "        f1=f.read()\n",
    "        for i in f1.split():\n",
    "            if int(i)<=20:\n",
    "                print(i,end=\" \")\n",
    "lowestmarks(filepath)     "
   ]
  },
  {
   "cell_type": "code",
   "execution_count": 64,
   "metadata": {},
   "outputs": [
    {
     "name": "stdout",
     "output_type": "stream",
     "text": [
      "['when', ' hello', ' u', ' chandu']\n",
      "when : 1\n",
      " hello : 1\n",
      " u : 1\n",
      " chandu : 1\n"
     ]
    }
   ],
   "source": [
    "filepath=\"content.txt\"\n",
    "def frequencyofwords(filepath):\n",
    "    with open(filepath,\"r\") as f:\n",
    "        f1=f.read()\n",
    "        l=f1.split('\\n')\n",
    "        print(l)\n",
    "        for i in l:\n",
    "            print(i,':',l.count(i))\n",
    "frequencyofwords(filepath)            "
   ]
  },
  {
   "cell_type": "code",
   "execution_count": 69,
   "metadata": {},
   "outputs": [
    {
     "name": "stdout",
     "output_type": "stream",
     "text": [
      "{'when': 1, ' hello': 1, ' chandu': 1, ' u': 1}\n"
     ]
    }
   ],
   "source": [
    "filepath=\"content.txt\"\n",
    "def frequencyofwords(filepath):\n",
    "    d={}\n",
    "    with open(filepath,\"r\") as f:\n",
    "        f1=f.read()\n",
    "        l=f1.split('\\n')\n",
    "        for i in set(l):\n",
    "            d[i]=l.count(i)\n",
    "        print(d)       \n",
    "frequencyofwords(filepath)            "
   ]
  },
  {
   "cell_type": "code",
   "execution_count": 75,
   "metadata": {},
   "outputs": [
    {
     "name": "stdout",
     "output_type": "stream",
     "text": [
      "when\n",
      " hello\n",
      " u\n",
      " chandu when\n",
      " hello\n",
      " u\n",
      " chandu "
     ]
    }
   ],
   "source": [
    "filepath=\"content.txt\"\n",
    "def findreplace(filepath):\n",
    "    with open(filepath,\"r\") as f:\n",
    "        f1=f.read()\n",
    "        for i in f1:\n",
    "            s=f1.replace(\"welcome\",\"chandu\")\n",
    "        print(f1,end=\" \")\n",
    "        print(s,end=\" \")\n",
    "findreplace(filepath)   "
   ]
  },
  {
   "cell_type": "code",
   "execution_count": null,
   "metadata": {},
   "outputs": [],
   "source": []
  }
 ],
 "metadata": {
  "kernelspec": {
   "display_name": "Python 3",
   "language": "python",
   "name": "python3"
  },
  "language_info": {
   "codemirror_mode": {
    "name": "ipython",
    "version": 3
   },
   "file_extension": ".py",
   "mimetype": "text/x-python",
   "name": "python",
   "nbconvert_exporter": "python",
   "pygments_lexer": "ipython3",
   "version": "3.7.3"
  }
 },
 "nbformat": 4,
 "nbformat_minor": 2
}
