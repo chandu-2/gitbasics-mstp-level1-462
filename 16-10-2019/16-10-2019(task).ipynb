{
 "cells": [
  {
   "cell_type": "code",
   "execution_count": null,
   "metadata": {},
   "outputs": [],
   "source": [
    "import re\n",
    "def phoneno(no):\n",
    "    pattern='^[+][9][1][6-9][0-9]{9}$|^[6-9][0-9]{9}$|^[+][9][1][6-9][0-9]{9}$'\n",
    "    if re.match(pattern,no):\n",
    "        return 1\n",
    "    else:\n",
    "        return 0\n",
    "def emailval(n):\n",
    "    pattern='^([0-9]|[a-z]|[A-Z])([0-9]|[a-z]|[A-Z]|[_]){6,14}([0-9]|[a-z]|[A-Z])@([a-z]|[A-Z]){1,10}[.][a-z]{2,4}$'\n",
    "    if re.match(pattern,n):\n",
    "        return 1\n",
    "    else:\n",
    "        return 0\n",
    "def searchcontact(name,file):\n",
    "    s=csvtolist(file)\n",
    "    for i in s:\n",
    "        if i[0]==name:\n",
    "            return 1\n",
    "    return 0    \n",
    "searchcontact(\"chand\",\"contacts.txt\")\n",
    "def addcontact(name,no,email,file):\n",
    "    if searchcontact(name,file)==0:\n",
    "        print(\"su\")\n",
    "        if phoneno(no)==1:\n",
    "            print(\"suc\")\n",
    "            if emailval(email)==1:\n",
    "                print(\"succc\")\n",
    "                with open(file,'a') as f :\n",
    "                    f.write(name+\",\"+no+\",\"+email)\n",
    "                    print(\"contact added successfully\")\n",
    "    else:\n",
    "        print(\"contact already exixts\")\n",
    "addcontact(\"chandana\",\"7981178414\",\"kvswcse56@gmail.com\",\"contacts.txt\")        \n",
    "            \n",
    "    "
   ]
  }
 ],
 "metadata": {
  "kernelspec": {
   "display_name": "Python 3",
   "language": "python",
   "name": "python3"
  },
  "language_info": {
   "codemirror_mode": {
    "name": "ipython",
    "version": 3
   },
   "file_extension": ".py",
   "mimetype": "text/x-python",
   "name": "python",
   "nbconvert_exporter": "python",
   "pygments_lexer": "ipython3",
   "version": "3.7.3"
  }
 },
 "nbformat": 4,
 "nbformat_minor": 2
}
