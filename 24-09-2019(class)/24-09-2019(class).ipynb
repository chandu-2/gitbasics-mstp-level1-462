{
 "cells": [
  {
   "cell_type": "markdown",
   "metadata": {},
   "source": [
    "## function \n",
    "###1.easy to debug\n",
    "#function calling\n",
    "#function definition"
   ]
  },
  {
   "cell_type": "code",
   "execution_count": 5,
   "metadata": {},
   "outputs": [
    {
     "name": "stdout",
     "output_type": "stream",
     "text": [
      "23\n",
      "34\n",
      "57\n"
     ]
    }
   ],
   "source": [
    "def addition():\n",
    "    a=int(input())\n",
    "    b=int(input())\n",
    "    print(a+b)\n",
    "addition()   "
   ]
  },
  {
   "cell_type": "code",
   "execution_count": 2,
   "metadata": {},
   "outputs": [
    {
     "name": "stdout",
     "output_type": "stream",
     "text": [
      "56\n",
      "67\n",
      "123\n"
     ]
    }
   ],
   "source": [
    "def addition(a,b):\n",
    "    c=a+b\n",
    "    print(c)\n",
    "a=input()\n",
    "b=input()\n",
    "addition(int(a),int(b))"
   ]
  },
  {
   "cell_type": "code",
   "execution_count": 4,
   "metadata": {},
   "outputs": [
    {
     "data": {
      "text/plain": [
       "(20, 30, 50)"
      ]
     },
     "execution_count": 4,
     "metadata": {},
     "output_type": "execute_result"
    }
   ],
   "source": [
    "def add(a,b):\n",
    "    c=a+b\n",
    "    return(a,b,c)\n",
    "add(20,30)    "
   ]
  },
  {
   "cell_type": "code",
   "execution_count": 5,
   "metadata": {},
   "outputs": [
    {
     "name": "stdout",
     "output_type": "stream",
     "text": [
      "7\n",
      "odd\n"
     ]
    }
   ],
   "source": [
    "def evenorodd(a):\n",
    "    if(a%2==0):\n",
    "       print(\"even\")\n",
    "    else:\n",
    "       print(\"odd\") \n",
    "a=int(input())    \n",
    "evenorodd(a)   "
   ]
  },
  {
   "cell_type": "code",
   "execution_count": 18,
   "metadata": {},
   "outputs": [
    {
     "name": "stdout",
     "output_type": "stream",
     "text": [
      "325\n"
     ]
    }
   ],
   "source": [
    "def sum(n):\n",
    "    s=0\n",
    "    for i in range(1,n+1):\n",
    "        s=s+i\n",
    "    print(s)\n",
    "sum(25)\n"
   ]
  },
  {
   "cell_type": "markdown",
   "metadata": {},
   "source": [
    "## class task"
   ]
  },
  {
   "cell_type": "code",
   "execution_count": 2,
   "metadata": {},
   "outputs": [
    {
     "name": "stdout",
     "output_type": "stream",
     "text": [
      "6\n",
      "720\n"
     ]
    }
   ],
   "source": [
    "def product(a):\n",
    "    s=1\n",
    "    for i in range(1,a+1):\n",
    "        s=s*i\n",
    "    print(s)\n",
    "a=int(input())        \n",
    "product(a)        "
   ]
  },
  {
   "cell_type": "code",
   "execution_count": 7,
   "metadata": {},
   "outputs": [
    {
     "name": "stdout",
     "output_type": "stream",
     "text": [
      "10\n",
      "5\n"
     ]
    }
   ],
   "source": [
    "def average(n):\n",
    "    sum=1\n",
    "    count=0\n",
    "    for i in range(1,n+1):\n",
    "        sum=sum+i\n",
    "        count=count+1\n",
    "    print(sum//count)\n",
    "n=int(input())        \n",
    "average(n)"
   ]
  },
  {
   "cell_type": "code",
   "execution_count": 20,
   "metadata": {},
   "outputs": [
    {
     "name": "stdout",
     "output_type": "stream",
     "text": [
      "6\n",
      "1 2 3 6 "
     ]
    }
   ],
   "source": [
    "def factors(n):\n",
    "    for i in range(1,n+1):\n",
    "        if(n%i==0):\n",
    "            print(i,end=\" \")\n",
    "n=int(input()) \n",
    "factors(n)\n",
    "    \n",
    "    "
   ]
  },
  {
   "cell_type": "code",
   "execution_count": 32,
   "metadata": {},
   "outputs": [
    {
     "name": "stdout",
     "output_type": "stream",
     "text": [
      "6\n",
      "1\n",
      "2\n",
      "3\n",
      "6\n",
      "12\n"
     ]
    }
   ],
   "source": [
    "def factorssum(n):\n",
    "    sum=0\n",
    "    for i in range(1,n+1):\n",
    "        if(n%i==0):\n",
    "            print(i)\n",
    "            sum=sum+i\n",
    "    print(sum)    \n",
    "n=int(input())\n",
    "factorssum(n)\n",
    "        "
   ]
  },
  {
   "cell_type": "code",
   "execution_count": 18,
   "metadata": {},
   "outputs": [
    {
     "name": "stdout",
     "output_type": "stream",
     "text": [
      "2000\n",
      "leap year\n"
     ]
    }
   ],
   "source": [
    "def leapyearnot(a):\n",
    "    if(a%4==0 or a%100!=0 and a%400==0):\n",
    "        print(\"leap year\")\n",
    "    else:\n",
    "        print(\"not leap year\")\n",
    "a=int(input()) \n",
    "leapyearnot(a)\n",
    "    "
   ]
  },
  {
   "cell_type": "code",
   "execution_count": 46,
   "metadata": {},
   "outputs": [
    {
     "name": "stdout",
     "output_type": "stream",
     "text": [
      "7\n",
      "not perfect\n"
     ]
    }
   ],
   "source": [
    "def perfectornot(a):\n",
    "    sum=0\n",
    "    for i in range(1,n):\n",
    "        if(n%i==0):\n",
    "            sum=sum+i\n",
    "    if(sum==a):\n",
    "        print(\"perfect\")\n",
    "    else:\n",
    "        print(\"not perfect\")\n",
    "a=int(input())    \n",
    "perfectornot(a)    "
   ]
  },
  {
   "cell_type": "code",
   "execution_count": 1,
   "metadata": {},
   "outputs": [
    {
     "name": "stdout",
     "output_type": "stream",
     "text": [
      "10\n",
      "not prime\n"
     ]
    }
   ],
   "source": [
    "def primeornot(a):\n",
    "    if(a%2!=0):\n",
    "         print(\"prime\")\n",
    "    else:\n",
    "         print(\"not prime\")\n",
    "a=int(input())  \n",
    "primeornot(a)"
   ]
  },
  {
   "cell_type": "code",
   "execution_count": null,
   "metadata": {},
   "outputs": [],
   "source": []
  }
 ],
 "metadata": {
  "kernelspec": {
   "display_name": "Python 3",
   "language": "python",
   "name": "python3"
  },
  "language_info": {
   "codemirror_mode": {
    "name": "ipython",
    "version": 3
   },
   "file_extension": ".py",
   "mimetype": "text/x-python",
   "name": "python",
   "nbconvert_exporter": "python",
   "pygments_lexer": "ipython3",
   "version": "3.7.3"
  }
 },
 "nbformat": 4,
 "nbformat_minor": 2
}
