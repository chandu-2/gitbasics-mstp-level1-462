{
 "cells": [
  {
   "cell_type": "markdown",
   "metadata": {},
   "source": [
    "1.Check if the number exist in a given range (inputs: number(n), range(lower number and upper number) "
   ]
  },
  {
   "cell_type": "code",
   "execution_count": 3,
   "metadata": {},
   "outputs": [
    {
     "name": "stdout",
     "output_type": "stream",
     "text": [
      "6\n",
      "7\n",
      "3\n",
      "not present\n"
     ]
    }
   ],
   "source": [
    " def number(a,b,c):\n",
    "        if(a<c<b):\n",
    "            print(\"present\")\n",
    "        else:\n",
    "            print(\"not present\")\n",
    "a=int(input())\n",
    "b=int(input())\n",
    "c=int(input())\n",
    "number(a,b,c)    "
   ]
  },
  {
   "cell_type": "markdown",
   "metadata": {},
   "source": [
    "2.Check the number of digits in a given number"
   ]
  },
  {
   "cell_type": "code",
   "execution_count": 3,
   "metadata": {},
   "outputs": [
    {
     "name": "stdout",
     "output_type": "stream",
     "text": [
      "567840\n",
      "6\n"
     ]
    }
   ],
   "source": [
    "def number(a):\n",
    "    n=len(a)\n",
    "    print(n)\n",
    "a=(input())  \n",
    "number(a)\n",
    "    \n",
    "        "
   ]
  },
  {
   "cell_type": "markdown",
   "metadata": {},
   "source": [
    "3.Check if the given number is a factor of 1000 "
   ]
  },
  {
   "cell_type": "code",
   "execution_count": 1,
   "metadata": {},
   "outputs": [
    {
     "name": "stdout",
     "output_type": "stream",
     "text": [
      "56\n",
      "not factor\n"
     ]
    }
   ],
   "source": [
    "def factor(n):\n",
    "        if(1000%n==0):\n",
    "            print(\"factor\")\n",
    "        else:\n",
    "            print(\"not factor\")\n",
    "n=int(input())\n",
    "factor(n)"
   ]
  },
  {
   "cell_type": "markdown",
   "metadata": {},
   "source": [
    "4.Calculate the square root of a given number "
   ]
  },
  {
   "cell_type": "code",
   "execution_count": 14,
   "metadata": {},
   "outputs": [
    {
     "name": "stdout",
     "output_type": "stream",
     "text": [
      "100\n",
      "10.0\n"
     ]
    }
   ],
   "source": [
    "def squareroot(n):\n",
    "    a=(n**(1/2))\n",
    "    print(a)\n",
    "n=int(input())\n",
    "squareroot(n)\n",
    "        "
   ]
  },
  {
   "cell_type": "markdown",
   "metadata": {},
   "source": [
    "5.python program to take values of length and breadth(width) of a rectangle from user and check if it is square or not. . "
   ]
  },
  {
   "cell_type": "code",
   "execution_count": 13,
   "metadata": {},
   "outputs": [
    {
     "name": "stdout",
     "output_type": "stream",
     "text": [
      "4\n",
      "8\n",
      "rectangle\n"
     ]
    }
   ],
   "source": [
    "def lengthbreadth(l,b):\n",
    "    if(l==b):\n",
    "        print(\"square\")\n",
    "    else:\n",
    "        print(\"rectangle\")\n",
    "l=int(input())\n",
    "b=int(input())\n",
    "lengthbreadth(l,b)\n",
    "        "
   ]
  },
  {
   "cell_type": "markdown",
   "metadata": {},
   "source": [
    "###### 6.A school has following rules for grading system:\n",
    "###### Below 25 - F\n",
    "###### 25 to 45 - E\n",
    "###### 45 to 50 - D\n",
    "###### 50 to 60 - C\n",
    "###### 60 to 80 - B\n",
    "###### Above 80 - A\n",
    "####### Ask user to enter marks and print the corresponding grade. "
   ]
  },
  {
   "cell_type": "code",
   "execution_count": 18,
   "metadata": {},
   "outputs": [
    {
     "name": "stdout",
     "output_type": "stream",
     "text": [
      "89\n",
      "A\n"
     ]
    }
   ],
   "source": [
    "def schoolrule(n):\n",
    "    if(n<25):\n",
    "        print(\"F\")\n",
    "    elif(n>=25 and n<=45):\n",
    "        print(\"E\")\n",
    "    elif(n>=45 and n<=50):\n",
    "        print(\"D\")\n",
    "    elif(n>=50 and n<=60):\n",
    "        print(\"C\")\n",
    "    elif(n>60 and n<=80):\n",
    "        print(\"B\")\n",
    "    else:\n",
    "        print(\"A\")\n",
    "n=int(input())\n",
    "schoolrule(n)"
   ]
  },
  {
   "cell_type": "markdown",
   "metadata": {},
   "source": [
    "7.Take input of age of 3 people by user and determine oldest and youngest among them"
   ]
  },
  {
   "cell_type": "code",
   "execution_count": 1,
   "metadata": {},
   "outputs": [
    {
     "name": "stdout",
     "output_type": "stream",
     "text": [
      "23\n",
      "54\n",
      "78\n",
      "oldest 23\n",
      "youngest 78\n"
     ]
    }
   ],
   "source": [
    " def oldestyoungest(a,b,c):\n",
    "    if(a>b and a>c):\n",
    "        oldest=a\n",
    "    elif(b>c and b>a):\n",
    "        youngest=b\n",
    "    else:\n",
    "        youngest=c\n",
    "    if(a<b and a<c):\n",
    "        oldest=a\n",
    "    elif(b<c and b<a):\n",
    "        youngest=b\n",
    "    else:\n",
    "        youngest=c\n",
    "    print(\"oldest\",oldest)\n",
    "    print(\"youngest\",youngest)\n",
    "a=int(input())\n",
    "b=int(input())\n",
    "c=int(input())\n",
    "oldestyoungest(a,b,c)\n",
    "        \n",
    "    "
   ]
  },
  {
   "cell_type": "markdown",
   "metadata": {},
   "source": [
    "### 8.A student will not be allowed to sit in exam if his/her attendance is less than 75%.\n",
    "### 1.Take following input from user Number of classes held,Number of classes attended.\n",
    "###2. And print percentage of class attended Is student is allowed to sit in exam or not. "
   ]
  },
  {
   "cell_type": "code",
   "execution_count": 1,
   "metadata": {},
   "outputs": [
    {
     "name": "stdout",
     "output_type": "stream",
     "text": [
      "300\n",
      "280\n",
      "93.33333333333333\n",
      "allowed to exam\n"
     ]
    }
   ],
   "source": [
    "def attendance(h,a):\n",
    "    x=(((a/h)*100))\n",
    "    print(x)\n",
    "    if(x>=75):\n",
    "        print(\"allowed to exam\")\n",
    "    else:\n",
    "        print(\"not allowed to exam\")\n",
    "h=int(input())\n",
    "a=int(input())\n",
    "attendance(h,a)"
   ]
  },
  {
   "cell_type": "markdown",
   "metadata": {},
   "source": [
    "###### "
   ]
  }
 ],
 "metadata": {
  "kernelspec": {
   "display_name": "Python 3",
   "language": "python",
   "name": "python3"
  },
  "language_info": {
   "codemirror_mode": {
    "name": "ipython",
    "version": 3
   },
   "file_extension": ".py",
   "mimetype": "text/x-python",
   "name": "python",
   "nbconvert_exporter": "python",
   "pygments_lexer": "ipython3",
   "version": "3.7.3"
  }
 },
 "nbformat": 4,
 "nbformat_minor": 2
}
