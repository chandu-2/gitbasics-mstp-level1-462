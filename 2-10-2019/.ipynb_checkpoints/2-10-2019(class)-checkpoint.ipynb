{
 "cells": [
  {
   "cell_type": "markdown",
   "metadata": {},
   "source": [
    "## Regular experision"
   ]
  },
  {
   "cell_type": "markdown",
   "metadata": {},
   "source": [
    "abc-that matches the character sequences anywhere in the string\n",
    "^--->beginning of the string\n",
    "$----> end of the string\n",
    "a|b---->either a or b"
   ]
  },
  {
   "cell_type": "code",
   "execution_count": 2,
   "metadata": {},
   "outputs": [
    {
     "data": {
      "text/plain": [
       "1"
      ]
     },
     "execution_count": 2,
     "metadata": {},
     "output_type": "execute_result"
    }
   ],
   "source": [
    "import re\n",
    "def phoneno(no):\n",
    "    pattern='^[+][9][1][6-9][0-9]{9}$|^[6-9][0-9]{9}$'\n",
    "    if re.match(pattern,no):\n",
    "        return 1\n",
    "    else:\n",
    "        return 0\n",
    "phoneno(\"9704186591\")    "
   ]
  },
  {
   "cell_type": "markdown",
   "metadata": {},
   "source": [
    "# email"
   ]
  },
  {
   "cell_type": "code",
   "execution_count": 3,
   "metadata": {},
   "outputs": [
    {
     "data": {
      "text/plain": [
       "1"
      ]
     },
     "execution_count": 3,
     "metadata": {},
     "output_type": "execute_result"
    }
   ],
   "source": [
    "def email(n):\n",
    "    pattern='^([a-z]|[A-Z]|[0-9]|)([a-z]|[A-Z]|[0-9]|[_]){6,14}([0-9]|[a-z])@[a-z]{2,10}[.][a-z]{2,4}$'\n",
    "    if re.match(pattern,n):\n",
    "        return 1\n",
    "    else:\n",
    "        return 0\n",
    "email(\"konkachandana62@gmail.com\")    "
   ]
  },
  {
   "cell_type": "code",
   "execution_count": null,
   "metadata": {},
   "outputs": [],
   "source": []
  }
 ],
 "metadata": {
  "kernelspec": {
   "display_name": "Python 3",
   "language": "python",
   "name": "python3"
  },
  "language_info": {
   "codemirror_mode": {
    "name": "ipython",
    "version": 3
   },
   "file_extension": ".py",
   "mimetype": "text/x-python",
   "name": "python",
   "nbconvert_exporter": "python",
   "pygments_lexer": "ipython3",
   "version": "3.7.3"
  }
 },
 "nbformat": 4,
 "nbformat_minor": 2
}
