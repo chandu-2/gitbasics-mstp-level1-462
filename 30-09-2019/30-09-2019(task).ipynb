{
 "cells": [
  {
   "cell_type": "markdown",
   "metadata": {},
   "source": [
    "1.Write a Python program to generate and print a list and a dictionary of square of numbers between 1 and 15 (both included) "
   ]
  },
  {
   "cell_type": "code",
   "execution_count": 6,
   "metadata": {},
   "outputs": [
    {
     "name": "stdout",
     "output_type": "stream",
     "text": [
      "{1: 1, 2: 4, 3: 9, 4: 16, 5: 25, 6: 36, 7: 49, 8: 64, 9: 81, 10: 100, 11: 121, 12: 144, 13: 169, 14: 196, 15: 225}\n",
      "[1, 4, 9, 16, 25, 36, 49, 64, 81, 100, 121, 144, 169, 196, 225]\n"
     ]
    }
   ],
   "source": [
    "a=[]\n",
    "s={}\n",
    "n=15\n",
    "for i in range(1,n+1):\n",
    "    s[i]=i**2\n",
    "    a.append(i**2)\n",
    "print(s)\n",
    "print(a)\n"
   ]
  },
  {
   "cell_type": "markdown",
   "metadata": {},
   "source": [
    "2.Take 10 integer inputs from user and store them in a list and print them on scree"
   ]
  },
  {
   "cell_type": "code",
   "execution_count": 9,
   "metadata": {},
   "outputs": [
    {
     "name": "stdout",
     "output_type": "stream",
     "text": [
      "10\n",
      "[1, 2, 3, 4, 5, 6, 7, 8, 9, 10]\n"
     ]
    }
   ],
   "source": [
    "a=[]\n",
    "n=int(input())\n",
    "for i in range(1,n+1):\n",
    "    a.append(i)\n",
    "print(a)    "
   ]
  },
  {
   "cell_type": "markdown",
   "metadata": {},
   "source": [
    "3.l=[1,5,7,3,2,4,5,9],print list of all even numbers from the given list "
   ]
  },
  {
   "cell_type": "code",
   "execution_count": 14,
   "metadata": {},
   "outputs": [
    {
     "name": "stdout",
     "output_type": "stream",
     "text": [
      "[2, 4]\n"
     ]
    }
   ],
   "source": [
    "l=[1,5,7,3,2,4,5,9]\n",
    "s=[]\n",
    "for i in range (len(l)):\n",
    "    if(l[i]%2==0):\n",
    "        s.append(l[i])    \n",
    "print(s)        "
   ]
  },
  {
   "cell_type": "markdown",
   "metadata": {},
   "source": [
    "### 4.Take 10 integer inputs from user and print the following:\n",
    "##### number of positive numbers\n",
    "###### number of negative numbers\n",
    "####### number of odd numbers\n",
    "####### number of even numbers\n",
    "######## number of 0s. using dictionaries\n",
    "a=[10,20,-5,-6,3,4,0,0,-2,8]\n",
    "d={p:5,n:3,e:6,odd:2,0:2}"
   ]
  },
  {
   "cell_type": "code",
   "execution_count": null,
   "metadata": {},
   "outputs": [],
   "source": [
    "l=[]\n",
    "for i in range(1,11):\n",
    "    n=int(input())\n",
    "    l.append(n)\n",
    "d={\"p\":0,\"n\":0,\"e\":0,\"o\":0,\"z\":0}\n",
    "for j in l:\n",
    "    if j>0:\n",
    "        d[\"p\"]+=1\n",
    "        if j%2==0:\n",
    "            d[\"e\"]+=1\n",
    "        else:\n",
    "            d[\"o\"]+=1\n",
    "    elif j<0:\n",
    "        d[\"n\"]+=1\n",
    "        if j%2==0:\n",
    "            d[\"e\"]+=1\n",
    "        else:\n",
    "            d[\"o\"]+=1\n",
    "    elif j==0:\n",
    "        d[\"z\"]+=1\n",
    "print(d)        \n",
    "            \n",
    "        "
   ]
  },
  {
   "cell_type": "markdown",
   "metadata": {},
   "source": [
    "5.Ask user to give name and marks of 10 different students. Store them in dictionary."
   ]
  },
  {
   "cell_type": "code",
   "execution_count": 3,
   "metadata": {},
   "outputs": [
    {
     "name": "stdout",
     "output_type": "stream",
     "text": [
      "10\n",
      "55\n",
      "f\n",
      "67\n",
      "t\n",
      "55\n",
      "y\n",
      "78\n",
      "l\n",
      "55\n",
      "m\n",
      "66\n",
      "d\n",
      "44\n",
      "r\n",
      "44\n",
      "h\n",
      "33\n",
      "j\n",
      "90\n",
      "b\n",
      "{55: 'm', 67: 't', 78: 'l', 66: 'd', 44: 'h', 33: 'j', 90: 'b'}\n"
     ]
    }
   ],
   "source": [
    "a={}\n",
    "s=int(input())\n",
    "for i in range(1,s+1):\n",
    "    b=int(input())\n",
    "    c=input()\n",
    "    a[b]=c\n",
    "print(a)    \n",
    "    \n",
    "    "
   ]
  },
  {
   "cell_type": "markdown",
   "metadata": {},
   "source": [
    "6.Sort the dictionary created in previous example according to marks."
   ]
  },
  {
   "cell_type": "code",
   "execution_count": 13,
   "metadata": {},
   "outputs": [
    {
     "name": "stdout",
     "output_type": "stream",
     "text": [
      "5\n",
      "45\n",
      "r\n",
      "67\n",
      "s\n",
      "44\n",
      "t\n",
      "88\n",
      "u\n",
      "67\n",
      "v\n",
      "{45: 'r', 67: 'v', 44: 't', 88: 'u'}\n",
      "[44, 45, 67, 88]\n",
      "44 : t\n",
      "45 : r\n",
      "67 : v\n",
      "88 : u\n"
     ]
    }
   ],
   "source": [
    "a={}\n",
    "s=int(input())\n",
    "for i in range(1,s+1):\n",
    "    b=int(input())\n",
    "    c=input()\n",
    "    a[b]=c\n",
    "print(a)    \n",
    "n=sorted(a.keys())\n",
    "print(n)\n",
    "for i in n:\n",
    "    print(i,\":\",a[i])\n"
   ]
  },
  {
   "cell_type": "markdown",
   "metadata": {},
   "source": [
    "7.Use dictionary to store antonyms of words. \n",
    "## #######.g.- 'Right':'Left', 'Up':'Down', etc. Display all words and then ask user to enter a word and display antonym of it."
   ]
  },
  {
   "cell_type": "code",
   "execution_count": 12,
   "metadata": {},
   "outputs": [
    {
     "name": "stdout",
     "output_type": "stream",
     "text": [
      "['right', 'up', 'north']\n",
      "up\n",
      "down\n"
     ]
    }
   ],
   "source": [
    "s={\"right\":\"left\",\"up\":\"down\",\"north\":\"south\"}\n",
    "print(list(s.keys()))\n",
    "n=input()\n",
    "print(s.get(n))"
   ]
  },
  {
   "cell_type": "markdown",
   "metadata": {},
   "source": [
    "8.Count the number of occurrence of each letter in word \"MISSISSIPPI\". Store count of every letter with the letter in a dictionary."
   ]
  },
  {
   "cell_type": "code",
   "execution_count": 22,
   "metadata": {},
   "outputs": [
    {
     "name": "stdout",
     "output_type": "stream",
     "text": [
      "{'M': 1, 'I': 4, 'S': 4, 'P': 2}\n"
     ]
    }
   ],
   "source": [
    "n=\"MISSISSIPPI\"\n",
    "m={}\n",
    "for i in n:\n",
    "    m[i]=n.count(i)\n",
    "print(m)    "
   ]
  },
  {
   "cell_type": "markdown",
   "metadata": {},
   "source": [
    "9.From the previous question, sort according to the number of letters"
   ]
  },
  {
   "cell_type": "code",
   "execution_count": 36,
   "metadata": {},
   "outputs": [
    {
     "name": "stdout",
     "output_type": "stream",
     "text": [
      "['I', 'M', 'P', 'S']\n",
      "{'I': 4, 'M': 1, 'P': 2, 'S': 4}\n"
     ]
    }
   ],
   "source": [
    "a=\"MISSISSIPPI\"\n",
    "s=set(a)\n",
    "s=sorted(s)\n",
    "print(s)\n",
    "j={}    \n",
    "for i in s:\n",
    "    j[i]=a.count(i)\n",
    "print(j)\n"
   ]
  },
  {
   "cell_type": "code",
   "execution_count": null,
   "metadata": {},
   "outputs": [],
   "source": []
  }
 ],
 "metadata": {
  "kernelspec": {
   "display_name": "Python 3",
   "language": "python",
   "name": "python3"
  },
  "language_info": {
   "codemirror_mode": {
    "name": "ipython",
    "version": 3
   },
   "file_extension": ".py",
   "mimetype": "text/x-python",
   "name": "python",
   "nbconvert_exporter": "python",
   "pygments_lexer": "ipython3",
   "version": "3.7.3"
  }
 },
 "nbformat": 4,
 "nbformat_minor": 2
}
