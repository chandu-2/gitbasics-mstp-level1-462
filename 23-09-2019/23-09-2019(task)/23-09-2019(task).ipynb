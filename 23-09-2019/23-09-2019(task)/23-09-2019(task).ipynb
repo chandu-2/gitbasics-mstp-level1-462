{
 "cells": [
  {
   "cell_type": "markdown",
   "metadata": {},
   "source": [
    ".Write a Python program to get a string from a given string where all occurrences of its first char have been changed to '$', except the first char itself. \n",
    "\n",
    "Sample String : 'restart'\n",
    "\n",
    "Expected Result : 'resta$t' "
   ]
  },
  {
   "cell_type": "code",
   "execution_count": 1,
   "metadata": {},
   "outputs": [
    {
     "name": "stdout",
     "output_type": "stream",
     "text": [
      "resta$t\n"
     ]
    }
   ],
   "source": [
    "b=\"restart\"\n",
    "a=b[0:1:]\n",
    "c=b[1::]\n",
    "d=c.replace('r','$')\n",
    "print(a+d)"
   ]
  },
  {
   "cell_type": "markdown",
   "metadata": {},
   "source": [
    ".Take a string “Problem Solving Using Python” \n",
    "\n",
    "●Find the length of the string \n",
    "\n",
    "●Change the string to lowercase \n",
    "\n",
    "●Print the string in reverse order \n",
    "\n",
    "●Split the string\n",
    "\n",
    "●Print the string without spaces \n",
    "\n",
    "●Find how many times “s” is repeated in a given string "
   ]
  },
  {
   "cell_type": "code",
   "execution_count": 3,
   "metadata": {},
   "outputs": [
    {
     "name": "stdout",
     "output_type": "stream",
     "text": [
      "28\n",
      "problem solving using python\n",
      "nohtyP gnisu gnivloS melborP\n",
      "['Problem', 'Solving', 'using', 'Python']\n",
      "ProblemSolvingusingPython1\n"
     ]
    }
   ],
   "source": [
    "a=\"Problem Solving using Python\"\n",
    "print(len(a))\n",
    "print(a.lower())\n",
    "print(a[-1::-1])\n",
    "h=(a.split())\n",
    "print(h)\n",
    "for i in range(0,len(h)):\n",
    "    print(h[i],end=\"\")\n",
    "print(a.count(\"s\"))"
   ]
  },
  {
   "cell_type": "markdown",
   "metadata": {},
   "source": [
    ".Take a string “python programming by python platforms”\n",
    "\n",
    "●Find how many times “python” is repeated"
   ]
  },
  {
   "cell_type": "code",
   "execution_count": 17,
   "metadata": {},
   "outputs": [
    {
     "name": "stdout",
     "output_type": "stream",
     "text": [
      "2\n"
     ]
    }
   ],
   "source": [
    "a=\"python programing by python platform\"\n",
    "print(a.count(\"python\"))"
   ]
  },
  {
   "cell_type": "code",
   "execution_count": null,
   "metadata": {},
   "outputs": [],
   "source": []
  }
 ],
 "metadata": {
  "kernelspec": {
   "display_name": "Python 3",
   "language": "python",
   "name": "python3"
  },
  "language_info": {
   "codemirror_mode": {
    "name": "ipython",
    "version": 3
   },
   "file_extension": ".py",
   "mimetype": "text/x-python",
   "name": "python",
   "nbconvert_exporter": "python",
   "pygments_lexer": "ipython3",
   "version": "3.7.3"
  }
 },
 "nbformat": 4,
 "nbformat_minor": 2
}
