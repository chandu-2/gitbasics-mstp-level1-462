{
 "cells": [
  {
   "cell_type": "code",
   "execution_count": 1,
   "metadata": {},
   "outputs": [],
   "source": [
    "# file modes\n",
    "# tell\n",
    "# seek\n",
    "# w+=write and read"
   ]
  },
  {
   "cell_type": "code",
   "execution_count": 12,
   "metadata": {},
   "outputs": [],
   "source": [
    " \n",
    "def file(s):\n",
    "    with open(\"file_operations.txt\",\"w\") as s:\n",
    "        s.write(\"chandana\")\n",
    "        s.close()\n",
    "file(\"file_operations\")    \n",
    "    \n",
    "  "
   ]
  },
  {
   "cell_type": "code",
   "execution_count": 13,
   "metadata": {},
   "outputs": [
    {
     "name": "stdout",
     "output_type": "stream",
     "text": [
      "chandana\n",
      "8\n"
     ]
    }
   ],
   "source": [
    "f=open(\"file_operations.txt\",\"r\")\n",
    "f1=f.read(15)\n",
    "print(f1)\n",
    "print(f.tell())\n",
    "f.close()"
   ]
  },
  {
   "cell_type": "code",
   "execution_count": 16,
   "metadata": {},
   "outputs": [
    {
     "name": "stdout",
     "output_type": "stream",
     "text": [
      "ndana\n"
     ]
    }
   ],
   "source": [
    "x=open(\"file_operations.txt\",\"r\")\n",
    "x.read()\n",
    "x.seek(3)\n",
    "x.tell()\n",
    "print(x.read())"
   ]
  },
  {
   "cell_type": "code",
   "execution_count": 22,
   "metadata": {},
   "outputs": [
    {
     "name": "stdout",
     "output_type": "stream",
     "text": [
      "orld is beautifull\n"
     ]
    }
   ],
   "source": [
    "def writeread(s):\n",
    "    with open(\"file_operations.txt\",\"w+\")as s:\n",
    "        s.write(\"world is beautifull\")\n",
    "        s.seek(1)\n",
    "        r=s.read()\n",
    "        print(r)\n",
    "writeread(\"file_operations.txt\")    \n",
    "    "
   ]
  },
  {
   "cell_type": "code",
   "execution_count": 33,
   "metadata": {},
   "outputs": [
    {
     "name": "stdout",
     "output_type": "stream",
     "text": [
      "121\n",
      "palindrome\n"
     ]
    }
   ],
   "source": [
    "def palindromes(n):\n",
    "    n=input()\n",
    "    l=len(n)\n",
    "    for i in range (1,l):\n",
    "        d=n[::-1]\n",
    "    if n==d:\n",
    "        print(\"palindrome\")\n",
    "    else:\n",
    "        print(\"not palindrome\")   \n",
    "palindromes(n)       \n",
    "    \n",
    "    \n"
   ]
  },
  {
   "cell_type": "code",
   "execution_count": 45,
   "metadata": {},
   "outputs": [
    {
     "ename": "SyntaxError",
     "evalue": "invalid syntax (<ipython-input-45-2f306a095151>, line 2)",
     "output_type": "error",
     "traceback": [
      "\u001b[1;36m  File \u001b[1;32m\"<ipython-input-45-2f306a095151>\"\u001b[1;36m, line \u001b[1;32m2\u001b[0m\n\u001b[1;33m    def pali(n):\u001b[0m\n\u001b[1;37m      ^\u001b[0m\n\u001b[1;31mSyntaxError\u001b[0m\u001b[1;31m:\u001b[0m invalid syntax\n"
     ]
    }
   ],
   "source": [
    "n=int(input()\n",
    "def pali(n):\n",
    "    t=n\n",
    "    rev=0\n",
    "    for i in range(n): \n",
    "        if n!=0:\n",
    "            a=n%10\n",
    "            rev=(rev*10)+a\n",
    "            n=n//10\n",
    "    if(rev==n):\n",
    "        print(\"palindrome\")\n",
    "    else:\n",
    "        print(\"not palindrome\")\n",
    "pali(n)     "
   ]
  },
  {
   "cell_type": "code",
   "execution_count": null,
   "metadata": {},
   "outputs": [],
   "source": []
  }
 ],
 "metadata": {
  "kernelspec": {
   "display_name": "Python 3",
   "language": "python",
   "name": "python3"
  },
  "language_info": {
   "codemirror_mode": {
    "name": "ipython",
    "version": 3
   },
   "file_extension": ".py",
   "mimetype": "text/x-python",
   "name": "python",
   "nbconvert_exporter": "python",
   "pygments_lexer": "ipython3",
   "version": "3.7.3"
  }
 },
 "nbformat": 4,
 "nbformat_minor": 2
}
