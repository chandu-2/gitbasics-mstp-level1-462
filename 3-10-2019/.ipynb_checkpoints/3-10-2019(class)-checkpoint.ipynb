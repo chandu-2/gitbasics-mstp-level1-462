{
 "cells": [
  {
   "cell_type": "markdown",
   "metadata": {},
   "source": [
    "## File handling in python"
   ]
  },
  {
   "cell_type": "code",
   "execution_count": 2,
   "metadata": {},
   "outputs": [],
   "source": [
    "## read ---r\n",
    "## write ---w\n",
    "## append---a\n",
    "## read&write---r+\n",
    "## write&read---w+\n",
    "## append&read---a+\n",
    "## x--exclusive write--x"
   ]
  },
  {
   "cell_type": "code",
   "execution_count": 3,
   "metadata": {},
   "outputs": [],
   "source": [
    "# file opening\n",
    "# file=open(\"sample.txt\",\"mode\")"
   ]
  },
  {
   "cell_type": "code",
   "execution_count": 55,
   "metadata": {},
   "outputs": [],
   "source": [
    "# create a file and add some content\n",
    "f=open(\"data.txt\",\"w\")\n",
    "f.write(\"hello python\")\n",
    "f.write(\"\\nchandu\\n\")\n",
    "f.close()"
   ]
  },
  {
   "cell_type": "code",
   "execution_count": 11,
   "metadata": {},
   "outputs": [
    {
     "name": "stdout",
     "output_type": "stream",
     "text": [
      "hello python\n",
      "chandu\n",
      "\n"
     ]
    }
   ],
   "source": [
    "# print content of a file\n",
    "s=open(\"data.txt\",\"r\")\n",
    "d=s.read()\n",
    "print(d)\n",
    "s.close()"
   ]
  },
  {
   "cell_type": "code",
   "execution_count": 21,
   "metadata": {},
   "outputs": [
    {
     "name": "stdout",
     "output_type": "stream",
     "text": [
      "hello python\n",
      "chandu\n",
      "\n"
     ]
    }
   ],
   "source": [
    "def file(s):\n",
    "    s=open(\"data.txt\",\"r\")\n",
    "    c=s.read()\n",
    "    print(c)\n",
    "f=\"data.txt\",\"r\"\n",
    "file(s)   "
   ]
  },
  {
   "cell_type": "code",
   "execution_count": 24,
   "metadata": {},
   "outputs": [],
   "source": [
    "#function to write data to afile\n",
    "#data =\"mstp apssdc\"\n",
    "def file(e):\n",
    "    e=open(\"data.txt\",\"w\")\n",
    "    r=e.write(\"mstp apssdc\")\n",
    "    e.close()\n",
    "e=\"data.txt\"    \n",
    "file(e)    \n",
    "    "
   ]
  },
  {
   "cell_type": "code",
   "execution_count": 26,
   "metadata": {},
   "outputs": [],
   "source": [
    "def appendmode(p):\n",
    "    p=open(\"data.txt\",\"a\")\n",
    "    f=p.write(\"\\nchandana\")\n",
    "    p.close()\n",
    "p=\"data.txt\"\n",
    "appendmode(p)"
   ]
  },
  {
   "cell_type": "code",
   "execution_count": 37,
   "metadata": {},
   "outputs": [
    {
     "name": "stdout",
     "output_type": "stream",
     "text": [
      "mstp apssdcchandana\n",
      "chandana\n"
     ]
    }
   ],
   "source": [
    "def file(x):\n",
    "    x=open(\"data.txt\",\"r\")\n",
    "    s=x.read()\n",
    "    print(s)\n",
    "x=\"data.txt\"\n",
    "file(x)\n",
    "    "
   ]
  },
  {
   "cell_type": "code",
   "execution_count": 54,
   "metadata": {},
   "outputs": [
    {
     "name": "stdout",
     "output_type": "stream",
     "text": [
      "mstp apssdcchandana\n",
      " chandana "
     ]
    }
   ],
   "source": [
    "def access(f):\n",
    "    f=open(\"data.txt\",\"r\")\n",
    "    z=f.readlines()\n",
    "    for i in z:\n",
    "        print(i,end=\" \")\n",
    "access(f)        "
   ]
  },
  {
   "cell_type": "code",
   "execution_count": 64,
   "metadata": {},
   "outputs": [
    {
     "name": "stdout",
     "output_type": "stream",
     "text": [
      "2\n"
     ]
    }
   ],
   "source": [
    "# line count\n",
    "def count(t):\n",
    "    with open(\"data.txt\",\"r\")as t:\n",
    "        count=0\n",
    "        d=t.readlines()\n",
    "        for i in d:\n",
    "            count=count+1\n",
    "        print(count)\n",
    "t=\"data.txt\"\n",
    "count(t)\n",
    "        \n",
    "        \n",
    "    "
   ]
  },
  {
   "cell_type": "code",
   "execution_count": 66,
   "metadata": {},
   "outputs": [
    {
     "name": "stdout",
     "output_type": "stream",
     "text": [
      "20\n"
     ]
    }
   ],
   "source": [
    "def character(s):\n",
    "    with open (\"data.txt\",\"r\")as s:\n",
    "        count=0\n",
    "        d=s.read()\n",
    "        for i in d:\n",
    "            count=count+1\n",
    "        print(count)\n",
    "s=\"data.txt\"\n",
    "character(s)"
   ]
  },
  {
   "cell_type": "code",
   "execution_count": 73,
   "metadata": {},
   "outputs": [
    {
     "name": "stdout",
     "output_type": "stream",
     "text": [
      "3\n"
     ]
    }
   ],
   "source": [
    "def word(f):\n",
    "    with open (\"data.txt\",\"r\")as f:\n",
    "        d=f.read()\n",
    "        e=d.split()\n",
    "        print(len(e))\n",
    "word(f)        "
   ]
  },
  {
   "cell_type": "code",
   "execution_count": 77,
   "metadata": {},
   "outputs": [
    {
     "name": "stdout",
     "output_type": "stream",
     "text": [
      "20\n"
     ]
    }
   ],
   "source": [
    "def length(g):\n",
    "    with open (\"data.txt\",\"r\")as g:\n",
    "        d=g.read()\n",
    "        s=len(d)\n",
    "        print(s)\n",
    "\n",
    "length(\"data.txt\")        "
   ]
  },
  {
   "cell_type": "code",
   "execution_count": null,
   "metadata": {},
   "outputs": [],
   "source": []
  }
 ],
 "metadata": {
  "kernelspec": {
   "display_name": "Python 3",
   "language": "python",
   "name": "python3"
  },
  "language_info": {
   "codemirror_mode": {
    "name": "ipython",
    "version": 3
   },
   "file_extension": ".py",
   "mimetype": "text/x-python",
   "name": "python",
   "nbconvert_exporter": "python",
   "pygments_lexer": "ipython3",
   "version": "3.7.3"
  }
 },
 "nbformat": 4,
 "nbformat_minor": 2
}
