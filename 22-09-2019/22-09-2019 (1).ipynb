{
 "cells": [
  {
   "cell_type": "code",
   "execution_count": 1,
   "metadata": {},
   "outputs": [
    {
     "name": "stdout",
     "output_type": "stream",
     "text": [
      "1.9565217391304348\n"
     ]
    }
   ],
   "source": [
    "c=45\n",
    "c/=23\n",
    "print(c)"
   ]
  },
  {
   "cell_type": "code",
   "execution_count": 4,
   "metadata": {},
   "outputs": [
    {
     "name": "stdout",
     "output_type": "stream",
     "text": [
      "0\n"
     ]
    }
   ],
   "source": [
    "g=23\n",
    "g%=23\n",
    "print(g)"
   ]
  },
  {
   "cell_type": "markdown",
   "metadata": {},
   "source": [
    "## Comparsion operation"
   ]
  },
  {
   "cell_type": "code",
   "execution_count": 6,
   "metadata": {},
   "outputs": [
    {
     "name": "stdout",
     "output_type": "stream",
     "text": [
      "False\n",
      "True\n",
      "True\n",
      "False\n"
     ]
    }
   ],
   "source": [
    "k=3\n",
    "c=5\n",
    "print(k>c)\n",
    "print(k<c)\n",
    "print(k!=c)\n",
    "print(k==c)"
   ]
  },
  {
   "cell_type": "markdown",
   "metadata": {},
   "source": [
    "## logical operators"
   ]
  },
  {
   "cell_type": "code",
   "execution_count": 8,
   "metadata": {},
   "outputs": [
    {
     "name": "stdout",
     "output_type": "stream",
     "text": [
      "6\n",
      "2\n",
      "False\n",
      "False\n"
     ]
    }
   ],
   "source": [
    "g=2\n",
    "c=6\n",
    "print(g and c)\n",
    "print(g or c)\n",
    "print(not g)\n",
    "print(not c)"
   ]
  },
  {
   "cell_type": "markdown",
   "metadata": {},
   "source": [
    "## Bitwise operators"
   ]
  },
  {
   "cell_type": "code",
   "execution_count": 10,
   "metadata": {},
   "outputs": [
    {
     "name": "stdout",
     "output_type": "stream",
     "text": [
      "0.5111111111111111\n",
      "5\n",
      "58\n",
      "0\n",
      "809240558043136\n"
     ]
    }
   ],
   "source": [
    "c=23\n",
    "g=45\n",
    "print(c/g)\n",
    "print(c&g)\n",
    "print(c^g)\n",
    "print(c>>g)\n",
    "print(c<<g)"
   ]
  },
  {
   "cell_type": "markdown",
   "metadata": {},
   "source": [
    "## identity operators"
   ]
  },
  {
   "cell_type": "code",
   "execution_count": 11,
   "metadata": {},
   "outputs": [
    {
     "name": "stdout",
     "output_type": "stream",
     "text": [
      "False\n",
      "True\n"
     ]
    }
   ],
   "source": [
    "c=4\n",
    "g=6\n",
    "print(c is g)\n",
    "print(c is not g)"
   ]
  },
  {
   "cell_type": "markdown",
   "metadata": {},
   "source": [
    "## Membership operators"
   ]
  },
  {
   "cell_type": "code",
   "execution_count": 13,
   "metadata": {},
   "outputs": [
    {
     "data": {
      "text/plain": [
       "True"
      ]
     },
     "execution_count": 13,
     "metadata": {},
     "output_type": "execute_result"
    }
   ],
   "source": [
    "a=[5,6,7,8,9,2.]\n",
    "6 in a"
   ]
  },
  {
   "cell_type": "code",
   "execution_count": 17,
   "metadata": {},
   "outputs": [
    {
     "name": "stdout",
     "output_type": "stream",
     "text": [
      "True\n",
      "True\n"
     ]
    }
   ],
   "source": [
    "print(3 not in a)\n",
    "print(9  in a)"
   ]
  },
  {
   "cell_type": "markdown",
   "metadata": {},
   "source": [
    "##  Input & output"
   ]
  },
  {
   "cell_type": "code",
   "execution_count": 18,
   "metadata": {},
   "outputs": [
    {
     "name": "stdout",
     "output_type": "stream",
     "text": [
      "chandana kvsw\n"
     ]
    }
   ],
   "source": [
    "print(\"chandana kvsw\")"
   ]
  },
  {
   "cell_type": "code",
   "execution_count": 20,
   "metadata": {},
   "outputs": [
    {
     "name": "stdout",
     "output_type": "stream",
     "text": [
      "enter the valu\n",
      "34\n"
     ]
    }
   ],
   "source": [
    "print(\"enter the valu\")\n",
    "a=input()"
   ]
  },
  {
   "cell_type": "code",
   "execution_count": 21,
   "metadata": {},
   "outputs": [
    {
     "name": "stdout",
     "output_type": "stream",
     "text": [
      "enter the value54\n"
     ]
    }
   ],
   "source": [
    "a=input(\"enter the value\")"
   ]
  },
  {
   "cell_type": "code",
   "execution_count": 1,
   "metadata": {},
   "outputs": [
    {
     "name": "stdout",
     "output_type": "stream",
     "text": [
      "enter the value2\n",
      "enter the value6\n",
      "enter the value3\n"
     ]
    }
   ],
   "source": [
    "d=input(\"enter the value\")\n",
    "b=input(\"enter the value\")\n",
    "c=input(\"enter the value\")"
   ]
  },
  {
   "cell_type": "code",
   "execution_count": 3,
   "metadata": {},
   "outputs": [],
   "source": [
    "a=3\n",
    "c=4\n",
    "e=7"
   ]
  },
  {
   "cell_type": "code",
   "execution_count": 5,
   "metadata": {},
   "outputs": [
    {
     "name": "stdout",
     "output_type": "stream",
     "text": [
      "3 4 7\n"
     ]
    }
   ],
   "source": [
    "print(a,c,e)"
   ]
  },
  {
   "cell_type": "code",
   "execution_count": 4,
   "metadata": {},
   "outputs": [
    {
     "name": "stdout",
     "output_type": "stream",
     "text": [
      "3\n",
      "4\n",
      "7\n"
     ]
    }
   ],
   "source": [
    "print(a)\n",
    "print(c)\n",
    "print(e)"
   ]
  },
  {
   "cell_type": "code",
   "execution_count": 6,
   "metadata": {},
   "outputs": [
    {
     "name": "stdout",
     "output_type": "stream",
     "text": [
      "3\t4\t7\t"
     ]
    }
   ],
   "source": [
    "print(a,end=\"\\t\")\n",
    "print(c,end=\"\\t\")\n",
    "print(e,end=\"\\t\")\n"
   ]
  },
  {
   "cell_type": "code",
   "execution_count": 7,
   "metadata": {},
   "outputs": [
    {
     "name": "stdout",
     "output_type": "stream",
     "text": [
      "3,4,7\n",
      "3,4,7\n",
      "3,4,7\n"
     ]
    }
   ],
   "source": [
    "print(a,c,e,sep=\",\")\n",
    "print(a,c,e,sep=\",\")\n",
    "print(a,c,e,sep=\",\")"
   ]
  },
  {
   "cell_type": "code",
   "execution_count": 8,
   "metadata": {},
   "outputs": [
    {
     "name": "stdout",
     "output_type": "stream",
     "text": [
      "7\n"
     ]
    }
   ],
   "source": [
    "k=2\n",
    "c=5\n",
    "print(k+c)"
   ]
  },
  {
   "cell_type": "code",
   "execution_count": 11,
   "metadata": {},
   "outputs": [
    {
     "name": "stdout",
     "output_type": "stream",
     "text": [
      "enter the value56\n",
      "enter the value45\n",
      "101\n"
     ]
    }
   ],
   "source": [
    "a=input(\"enter the value\")\n",
    "b=input(\"enter the value\")\n",
    "print(int(a)+int(b))"
   ]
  },
  {
   "cell_type": "code",
   "execution_count": 12,
   "metadata": {},
   "outputs": [
    {
     "name": "stdout",
     "output_type": "stream",
     "text": [
      "enter the value7\n",
      "enter the value9\n",
      "16.0\n"
     ]
    }
   ],
   "source": [
    " c=float(input(\"enter the value\"))\n",
    " a=float(input(\"enter the value\"))\n",
    "print(c+a)"
   ]
  },
  {
   "cell_type": "markdown",
   "metadata": {},
   "source": [
    "## Strings"
   ]
  },
  {
   "cell_type": "code",
   "execution_count": 25,
   "metadata": {},
   "outputs": [
    {
     "name": "stdout",
     "output_type": "stream",
     "text": [
      "apssdc\n",
      "hello \n",
      " apssdc\n",
      "chandu\n",
      "baby't\n",
      "frist\n",
      "chsndu\n",
      "janu\n",
      "a\n",
      "d\n",
      "g\n",
      "first\n",
      "second\tthird\n",
      "e\n",
      "s\n",
      "w\t c\n"
     ]
    }
   ],
   "source": [
    "print(\"apssdc\")\n",
    "print(\"hello \\n apssdc\")\n",
    "print('chandu')\n",
    "print('baby\\'t')\n",
    "print(\"\"\"frist\n",
    "chsndu\n",
    "janu\"\"\")\n",
    "print('''a\n",
    "d\n",
    "g''')\n",
    "print(\"first\\nsecond\\tthird\")\n",
    "print(\"e\\ns\\nw\\t c\")"
   ]
  },
  {
   "cell_type": "code",
   "execution_count": 31,
   "metadata": {},
   "outputs": [
    {
     "name": "stdout",
     "output_type": "stream",
     "text": [
      "sum of 23 and 56 is 79\n",
      "sum of 23 and 56 is 79\n"
     ]
    }
   ],
   "source": [
    "c=23\n",
    "v=56\n",
    "print(\"sum of\",c,\"and\",v,\"is\",c+v)\n",
    "print(\"sum of {0} and {1} is {2}\".format(c,v,c+v))"
   ]
  },
  {
   "cell_type": "markdown",
   "metadata": {},
   "source": [
    "## String Sclicing"
   ]
  },
  {
   "cell_type": "code",
   "execution_count": 35,
   "metadata": {},
   "outputs": [
    {
     "name": "stdout",
     "output_type": "stream",
     "text": [
      "ch\ta\n",
      "n\n"
     ]
    }
   ],
   "source": [
    "a=\"chandu\"\n",
    "print(a[0],end=\"\")\n",
    "print(a[1],end=\"\\t\")\n",
    "print(a[2])\n",
    "print(a[3])\n",
    "       "
   ]
  },
  {
   "cell_type": "code",
   "execution_count": 44,
   "metadata": {},
   "outputs": [
    {
     "name": "stdout",
     "output_type": "stream",
     "text": [
      "chan\n",
      "c\n",
      "chandu\n",
      "chandu\n",
      "6\n",
      "chandu\n"
     ]
    }
   ],
   "source": [
    "#d=[start:end:step] start-include-,end=exclusive\n",
    "print(a[0:4])\n",
    "print(a[:3:5])\n",
    "print(a[0:len(a):1])\n",
    "print(a[0:len(a)])\n",
    "print(len(a))\n",
    "print(a[::])"
   ]
  },
  {
   "cell_type": "code",
   "execution_count": 49,
   "metadata": {},
   "outputs": [
    {
     "name": "stdout",
     "output_type": "stream",
     "text": [
      "udnahc\n"
     ]
    }
   ],
   "source": [
    "c=\"engineering\"\n",
    "print(a[-1::-1])"
   ]
  },
  {
   "cell_type": "code",
   "execution_count": 52,
   "metadata": {},
   "outputs": [
    {
     "name": "stdout",
     "output_type": "stream",
     "text": [
      "nrein\n",
      "gnireenigne\n",
      "gnireenigne\n"
     ]
    }
   ],
   "source": [
    "print(c[-2::-2])\n",
    "print(c[-1::-1])\n",
    "print(c[::-1])#c[-2],c[-4]"
   ]
  },
  {
   "cell_type": "code",
   "execution_count": 64,
   "metadata": {},
   "outputs": [
    {
     "name": "stdout",
     "output_type": "stream",
     "text": [
      "al\n",
      "a\n",
      "elgna\n"
     ]
    }
   ],
   "source": [
    "b=\"angle\"\n",
    "print(b[0::3])\n",
    "print(b[0::-3])\n",
    "print(b[::-1])\n"
   ]
  },
  {
   "cell_type": "code",
   "execution_count": 77,
   "metadata": {},
   "outputs": [
    {
     "name": "stdout",
     "output_type": "stream",
     "text": [
      "les\n",
      "v\n",
      "gs\n",
      "\n",
      "ns\n"
     ]
    }
   ],
   "source": [
    "c=\"kvswangles\"\n",
    "print(c[-3::1])\n",
    "print(c[1::-3])\n",
    "print(c[len(a)::-4])\n",
    "print(c[len(c)::4])\n",
    "print(c[len(c)//2::len(a)//3+2])"
   ]
  },
  {
   "cell_type": "code",
   "execution_count": 80,
   "metadata": {},
   "outputs": [
    {
     "name": "stdout",
     "output_type": "stream",
     "text": [
      "KVSWROCKS\n"
     ]
    }
   ],
   "source": [
    "e=\"kvswrocks\"\n",
    "print(e.upper())"
   ]
  },
  {
   "cell_type": "code",
   "execution_count": 81,
   "metadata": {},
   "outputs": [
    {
     "name": "stdout",
     "output_type": "stream",
     "text": [
      "kvswrocks\n"
     ]
    }
   ],
   "source": [
    "print(e.lower())"
   ]
  },
  {
   "cell_type": "code",
   "execution_count": 85,
   "metadata": {},
   "outputs": [
    {
     "name": "stdout",
     "output_type": "stream",
     "text": [
      "h\n",
      "1\n"
     ]
    }
   ],
   "source": [
    "a=\"chas\"\n",
    "print(a[1])\n",
    "print(a.count(\"c\"))"
   ]
  },
  {
   "cell_type": "code",
   "execution_count": null,
   "metadata": {},
   "outputs": [],
   "source": []
  }
 ],
 "metadata": {
  "kernelspec": {
   "display_name": "Python 3",
   "language": "python",
   "name": "python3"
  },
  "language_info": {
   "codemirror_mode": {
    "name": "ipython",
    "version": 3
   },
   "file_extension": ".py",
   "mimetype": "text/x-python",
   "name": "python",
   "nbconvert_exporter": "python",
   "pygments_lexer": "ipython3",
   "version": "3.7.3"
  }
 },
 "nbformat": 4,
 "nbformat_minor": 2
}
